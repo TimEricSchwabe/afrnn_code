{
 "cells": [
  {
   "cell_type": "code",
   "execution_count": 1,
   "id": "e9c8bf6a",
   "metadata": {},
   "outputs": [],
   "source": [
    "import torchvision\n",
    "from torch.utils.data import Subset, DataLoader\n",
    "import torch\n",
    "import torchvision\n",
    "import torch.nn.functional as F\n",
    "\n",
    "import torch.nn as nn\n",
    "import torchvision.transforms as transforms\n",
    "import numpy as np\n",
    "import matplotlib.pyplot as plt\n",
    "import math\n",
    "import tqdm\n",
    "from tqdm import tqdm as tqdm\n",
    "from models import *\n",
    "%matplotlib inline\n",
    "#from torch.utils.tensorboard import SummaryWriter\n",
    "import random"
   ]
  },
  {
   "cell_type": "code",
   "execution_count": 2,
   "id": "d767a10f",
   "metadata": {},
   "outputs": [],
   "source": [
    "# Load Dataset\n",
    "\n",
    "dataset = torchvision.datasets.MNIST('./tmp', train=True, download=False,\n",
    "                             transform=torchvision.transforms.Compose([\n",
    "                               torchvision.transforms.ToTensor(),\n",
    "                               torchvision.transforms.Normalize(\n",
    "                                 (0.1307,), (0.3081,))\n",
    "                             ]))\n",
    "\n",
    "dataset_test = torchvision.datasets.MNIST('./tmp', train=False, download=False,\n",
    "                             transform=torchvision.transforms.Compose([\n",
    "                               torchvision.transforms.ToTensor(),\n",
    "                               torchvision.transforms.Normalize(\n",
    "                                 (0.1307,), (0.3081,))\n",
    "                             ]))\n",
    "\n",
    "batch_size=128\n",
    "\n",
    "# Split the indices in a stratified way\n",
    "indices = np.arange(len(dataset))\n",
    "\n",
    "#train_indices, test_indices = train_test_split(indices, train_size=100*10, stratify=dataset.targets)\n",
    "\n",
    "train_indices = indices[0:int(np.floor(2000/batch_size))*batch_size]\n",
    "test_indices = indices[0:int(np.floor(2000/batch_size))*batch_size]\n",
    "\n",
    "# Warp into Subsets and DataLoaders\n",
    "train_dataset = Subset(dataset, train_indices)\n",
    "test_dataset = Subset(dataset_test, test_indices)\n",
    "\n",
    "train_loader = DataLoader(train_dataset, shuffle=True, num_workers=2, batch_size=batch_size)\n",
    "test_loader = DataLoader(test_dataset, shuffle=False, num_workers=2, batch_size=batch_size)\n"
   ]
  },
  {
   "cell_type": "code",
   "execution_count": 3,
   "id": "56c39357",
   "metadata": {},
   "outputs": [],
   "source": [
    "# Functions for one forward pass for training and validation\n",
    "\n",
    "def train_step(hidden_size, input_tensor, target):\n",
    "    hidden_bottom_0 = torch.zeros(1,hidden_size).to(device)\n",
    "    hidden_top_0 = torch.zeros(1,hidden_size).to(device)\n",
    "    frnn.zero_grad()\n",
    "\n",
    "    for i in range(input_tensor.shape[-1]):\n",
    "    #for i in range(300):\n",
    "        out, hidden_bottom_0, hidden_top_0 = frnn(input_tensor[:,i:i+1], hidden_bottom_0.to(device), hidden_top_0.to(device))\n",
    "        #out, hidden_bottom_0 = frnn(input_tensor[:,i:i+1], hidden_bottom_0)\n",
    "        if i==input_tensor.shape[-1]-1:\n",
    "        #if i == 1:\n",
    "            loss = criterion(out, target)\n",
    "            loss.backward()\n",
    "            optimizer.step()\n",
    "            return loss.item(), out\n",
    "        \n",
    "        \n",
    "def val_step(hidden_size, input_tensor, target):\n",
    "    hidden_bottom_0 = torch.zeros(1,hidden_size).to(device)\n",
    "    hidden_top_0 = torch.zeros(1,hidden_size).to(device)\n",
    "\n",
    "    for i in range(input_tensor.shape[-1]):\n",
    "        out, hidden_bottom_0, hidden_top_0 = frnn(input_tensor[:,i:i+1], hidden_bottom_0.to(device), hidden_top_0.to(device))\n",
    "        if i==input_tensor.shape[-1]-1:\n",
    "            loss = criterion(out, target)\n",
    "            return loss.item(), out\n",
    "        \n",
    "def train_step_arnn(hidden_size, input_tensor, target):\n",
    "    hidden_bottom_0 = torch.zeros(1,hidden_size).to(device)\n",
    "    frnn.zero_grad()\n",
    "\n",
    "    for i in range(input_tensor.shape[-1]):\n",
    "        #out, hidden_bottom_0, hidden_top_0 = frnn(input_tensor[:,i:i+1], hidden_bottom_0.to(device), hidden_top_0.to(device))\n",
    "        out, hidden_bottom_0 = frnn(input_tensor[:,i:i+1], hidden_bottom_0.to(device))\n",
    "        if i==input_tensor.shape[-1]-1:\n",
    "            loss = criterion(out, target)\n",
    "            loss.backward()\n",
    "            optimizer.step()\n",
    "            return loss.item(), out\n",
    "        \n",
    "        \n",
    "def train_step_lstm(hidden_size, input_tensor, target, batch_size):\n",
    "    hidden_bottom_0 = torch.zeros(batch_size,hidden_size).to(device)\n",
    "    c_0 = torch.zeros(batch_size,hidden_size).to(device)\n",
    "    frnn.zero_grad()\n",
    "\n",
    "    for i in range(input_tensor.shape[-1]):\n",
    "        out, hidden_bottom_0, c_0 = frnn(input_tensor[:,i:i+1], hidden_bottom_0.to(device), c_0.to(device))\n",
    "\n",
    "        if i==input_tensor.shape[-1]-1:\n",
    "            loss = criterion(out, target)\n",
    "            loss.backward()\n",
    "            optimizer.step()\n",
    "            return loss.item(), out\n",
    "\n",
    "        \n",
    "        \n",
    "def val_step_arnn(hidden_size, input_tensor, target):\n",
    "    hidden_bottom_0 = torch.zeros(1,hidden_size).to(device)\n",
    "    for i in range(input_tensor.shape[-1]):\n",
    "        out, hidden_bottom_0 = frnn(input_tensor[:,i:i+1], hidden_bottom_0.to(device))\n",
    "        if i==input_tensor.shape[-1]-1:\n",
    "            loss = criterion(out, target)\n",
    "            return loss.item(), out\n",
    "        \n",
    "        \n",
    "def val_step_lstm(hidden_size, input_tensor, target, batch_size):\n",
    "    hidden_bottom_0 = torch.zeros(batch_size,hidden_size).to(device)\n",
    "    c_0 = torch.zeros(batch_size,hidden_size).to(device)\n",
    "    frnn.zero_grad()\n",
    "\n",
    "    for i in range(input_tensor.shape[-1]):\n",
    "        out, hidden_bottom_0, c_0 = frnn(input_tensor[:,i:i+1], hidden_bottom_0.to(device), c_0.to(device))\n",
    "\n",
    "        if i==input_tensor.shape[-1]-1:\n",
    "            loss = criterion(out, target)\n",
    "            return loss.item(), out\n",
    "        \n",
    "        \n",
    "        \n",
    "def get_accuracy(logit, target, batch_size):\n",
    "    ''' Obtain accuracy for training round '''\n",
    "    corrects = (torch.max(logit, 1)[1].view(target.size()).data == target.data).sum()\n",
    "    accuracy = 100.0 * corrects/batch_size\n",
    "    return accuracy.item()"
   ]
  },
  {
   "cell_type": "code",
   "execution_count": 4,
   "id": "da688aa5",
   "metadata": {},
   "outputs": [],
   "source": [
    "class A_RNN(nn.Module):\n",
    "    def __init__(self, input_size, hidden_size, output_size, epsilon=0.1, gamma=0.15):\n",
    "        super().__init__()\n",
    "        \n",
    "        #Input to Hidden Weight:\n",
    "        ith_weights = torch.Tensor(hidden_size, input_size)\n",
    "        self.ith_weights = nn.Parameter(ith_weights, requires_grad=True)\n",
    "        \n",
    "        #Hidden to Hidden Weight:\n",
    "        hth_weights = torch.Tensor(hidden_size, hidden_size)\n",
    "        self.hth_weights = nn.Parameter(hth_weights,requires_grad=True)\n",
    "        \n",
    "        h_bias = torch.Tensor(hidden_size)\n",
    "        self.h_bias = nn.Parameter(h_bias, requires_grad=True)\n",
    "        \n",
    "        self.epsilon = epsilon\n",
    "        self.gamma = gamma\n",
    "        \n",
    "        \n",
    "        \n",
    "        #Hidden to Output Weights:\n",
    "        hto_weights = torch.Tensor(output_size, hidden_size)\n",
    "        self.hto_weights = nn.Parameter(hto_weights,requires_grad=True)\n",
    "        \n",
    "        o_bias = torch.Tensor(output_size)\n",
    "        self.o_bias = nn.Parameter(o_bias, requires_grad=True)\n",
    "        \n",
    "        #Init weights\n",
    "        #nn.init.kaiming_uniform(self.ith_weights, a=math.sqrt(5))\n",
    "        #nn.init.kaiming_uniform(self.hto_weights, a=math.sqrt(5))\n",
    "        #nn.init.kaiming_uniform(self.hth_weights, a=math.sqrt(5))\n",
    "        \n",
    "        nn.init.normal_(self.ith_weights, mean=0, std=1);\n",
    "        nn.init.normal_(self.hto_weights, mean=0, std=1/hidden_size);\n",
    "        nn.init.normal_(self.hth_weights, mean=0, std=1/hidden_size);\n",
    "        \n",
    "        nn.init.zeros_(self.h_bias)\n",
    "        nn.init.zeros_(self.o_bias)\n",
    "\n",
    "\n",
    "        \n",
    "        \n",
    "    def forward(self, input, hidden_old):\n",
    "        #Enforce antisymmetric weights\n",
    "        hth = self.hth_weights - self.hth_weights.t()\n",
    "        hth = hth - self.gamma * torch.eye(hidden_size, hidden_size).to(device)\n",
    "\n",
    "        \n",
    "        #Calculate bottom_layer\n",
    "        hidden = torch.tanh(torch.mm(input, self.ith_weights.t())\n",
    "                           +torch.mm(hidden_old, hth.t())\n",
    "                           + self.h_bias)\n",
    "        #Skip Connection:\n",
    "        hidden = hidden_old +  self.epsilon * hidden\n",
    "        \n",
    "\n",
    "        output = F.softmax(torch.mm(hidden, self.hto_weights.t()) + self.o_bias)\n",
    "        return output, hidden"
   ]
  },
  {
   "cell_type": "code",
   "execution_count": 5,
   "id": "244bdbf0",
   "metadata": {},
   "outputs": [],
   "source": [
    "class LSTM_NET(nn.Module):\n",
    "    \"\"\"\n",
    "    An LSTM Wrapper with a fully connected head.\n",
    "    input: torch.tensor of shape (seq_len, batch_dim, feature_dim)\n",
    "    hidden: Tuple containing (hidden states, cell states)\n",
    "    \"\"\"\n",
    "    def __init__(self, input_size, hidden_size, output_size):\n",
    "        super().__init__()\n",
    "        #self.lstm = torch.nn.LSTM(input_size=1, hidden_size=hidden_size, num_layers=1, batch_first=True)\n",
    "        self.lstm = torch.nn.LSTMCell(input_size=input_size, hidden_size=hidden_size)\n",
    "\n",
    "\n",
    "        self.fc = torch.nn.Linear(hidden_size, output_size)\n",
    "\n",
    "    def forward(self, input, hidden, c):\n",
    "        out, cell = self.lstm(input, (hidden, c))\n",
    "        output = self.fc(out)\n",
    "        return output, out, cell"
   ]
  },
  {
   "cell_type": "markdown",
   "id": "7803ce39",
   "metadata": {},
   "source": [
    "### Training the model "
   ]
  },
  {
   "cell_type": "code",
   "execution_count": 160,
   "id": "45e3f230",
   "metadata": {},
   "outputs": [],
   "source": [
    "# Load Dataset\n",
    "\n",
    "dataset = torchvision.datasets.MNIST('./tmp', train=True, download=False,\n",
    "                             transform=torchvision.transforms.Compose([\n",
    "                               torchvision.transforms.ToTensor(),\n",
    "                               torchvision.transforms.Normalize(\n",
    "                                 (0.1307,), (0.3081,))\n",
    "                             ]))\n",
    "\n",
    "dataset_test = torchvision.datasets.MNIST('./tmp', train=False, download=False,\n",
    "                             transform=torchvision.transforms.Compose([\n",
    "                               torchvision.transforms.ToTensor(),\n",
    "                               torchvision.transforms.Normalize(\n",
    "                                 (0.1307,), (0.3081,))\n",
    "                             ]))\n",
    "\n",
    "batch_size=128\n",
    "\n",
    "# Split the indices in a stratified way\n",
    "indices = np.arange(len(dataset))\n",
    "\n",
    "#train_indices, test_indices = train_test_split(indices, train_size=100*10, stratify=dataset.targets)\n",
    "\n",
    "train_indices = indices[0:int(np.floor(2000/batch_size))*batch_size]\n",
    "test_indices = indices[0:int(np.floor(2000/batch_size))*batch_size]\n",
    "\n",
    "# Warp into Subsets and DataLoaders\n",
    "train_dataset = Subset(dataset, train_indices)\n",
    "test_dataset = Subset(dataset_test, test_indices)\n",
    "\n",
    "train_loader = DataLoader(train_dataset, shuffle=True, num_workers=2, batch_size=batch_size)\n",
    "test_loader = DataLoader(test_dataset, shuffle=False, num_workers=2, batch_size=batch_size)\n"
   ]
  },
  {
   "cell_type": "code",
   "execution_count": 161,
   "id": "65aec0ff",
   "metadata": {},
   "outputs": [],
   "source": [
    "epochs = 5\n",
    "hidden_size = 20\n",
    "gamma = 0.01\n",
    "epsilon = 0.01\n",
    "\n",
    "device = torch.device(\"cuda:0\" if torch.cuda.is_available() else \"cpu\")\n"
   ]
  },
  {
   "cell_type": "code",
   "execution_count": 162,
   "id": "c74f5063",
   "metadata": {},
   "outputs": [
    {
     "name": "stderr",
     "output_type": "stream",
     "text": [
      "/tmp/ipykernel_7130/720636640.py:57: UserWarning: Implicit dimension choice for softmax has been deprecated. Change the call to include dim=X as an argument.\n",
      "  output = F.softmax(torch.mm(hidden, self.hto_weights.t()) + self.o_bias)\n"
     ]
    },
    {
     "name": "stdout",
     "output_type": "stream",
     "text": [
      "Epoch:  0 | Loss: 2.2749 | Train Accuracy: 15.89\n",
      "Epoch:  0 | Val-Loss: 2.2467 | Val Accuracy: 17.03\n",
      "Epoch:  1 | Loss: 2.1934 | Train Accuracy: 29.53\n",
      "Epoch:  1 | Val-Loss: 2.1489 | Val Accuracy: 34.06\n",
      "Epoch:  2 | Loss: 2.1174 | Train Accuracy: 37.86\n",
      "Epoch:  2 | Val-Loss: 2.1203 | Val Accuracy: 35.05\n",
      "Epoch:  3 | Loss: 2.0778 | Train Accuracy: 41.25\n",
      "Epoch:  3 | Val-Loss: 2.0700 | Val Accuracy: 42.29\n",
      "Epoch:  4 | Loss: 2.0376 | Train Accuracy: 44.90\n",
      "Epoch:  4 | Val-Loss: 2.0464 | Val Accuracy: 43.70\n"
     ]
    }
   ],
   "source": [
    "## MAIN TRAINING LOOP ## \n",
    "\n",
    "\n",
    "#frnn = FRNN_AS_SC(1,hidden_size,10, epsilon=epsilon, gamma=gamma)\n",
    "#frnn = FRNN_SC(1,hidden_size,10, epsilon=epsilon, gamma=gamma)\n",
    "\n",
    "#frnn = TLRNN_AS_SC(1,hidden_size,10, epsilon=epsilon, gamma=gamma)\n",
    "\n",
    "\n",
    "\n",
    "frnn =A_RNN(1, hidden_size,10,epsilon=epsilon, gamma=gamma)\n",
    "#frnn = LSTM_NET(1, hidden_size,10)\n",
    "\n",
    "frnn.to(device)\n",
    "#frnn = CustomRNN(1,hidden_size,10)\n",
    "criterion = nn.CrossEntropyLoss()\n",
    "#optimizer = torch.optim.Adam(frnn.parameters(), lr=1e-4)\n",
    "optimizer= torch.optim.Adagrad(frnn.parameters(), lr=1e-1)\n",
    "scheduler = torch.optim.lr_scheduler.ReduceLROnPlateau(\n",
    "    optimizer, patience=10, verbose=True, factor=0.1)\n",
    "\n",
    "\n",
    "#Lists to gather data\n",
    "losses = []\n",
    "accuracys = []\n",
    "val_losses = []\n",
    "val_accuracys = []\n",
    "\n",
    "for epoch in range(epochs):\n",
    "    epoch_accuracys = []\n",
    "    epoch_losses = []\n",
    "    for batch_idx, (data, target) in enumerate(train_loader):\n",
    "        data = data.reshape(batch_size,-1)\n",
    "        data = data.to(device)\n",
    "        target = target.to(device)\n",
    "    \n",
    "        #loss, pred = train_step(hidden_size, data, target)\n",
    "        loss, pred = train_step_arnn(hidden_size, data, target)\n",
    "        #loss, pred = train_step_lstm(hidden_size, data, target, batch_size)\n",
    "\n",
    "\n",
    "        epoch_losses.append(loss)\n",
    "        acc = get_accuracy(pred, target, batch_size)\n",
    "        epoch_accuracys.append(acc)\n",
    "    \n",
    "    \n",
    "\n",
    "    losses.append(np.mean(epoch_losses))\n",
    "    accuracys.append(np.mean(epoch_accuracys))\n",
    "    print('Epoch:  %d | Loss: %.4f | Train Accuracy: %.2f' \n",
    "      %(epoch, np.mean(epoch_losses) , np.mean(epoch_accuracys)))\n",
    "    \n",
    "\n",
    "    \n",
    "    epoch_accuracys = []\n",
    "    epoch_losses = []\n",
    "    \n",
    "\n",
    "\n",
    "    #Performing Evaluation\n",
    "    for batch_idx, (data, target) in enumerate(test_loader):\n",
    "        data = data.reshape(batch_size,-1)\n",
    "        data = data.to(device)\n",
    "        target = target.to(device)\n",
    "\n",
    "        #loss, pred = val_step(hidden_size, data, target)\n",
    "        loss, pred = val_step_arnn(hidden_size, data, target)\n",
    "        #loss, pred = val_step_lstm(hidden_size, data, target, batch_size)\n",
    "\n",
    "\n",
    "        epoch_losses.append(loss)\n",
    "        acc = get_accuracy(pred, target, batch_size)\n",
    "        epoch_accuracys.append(acc)\n",
    "        \n",
    "    #Save best model only\n",
    "    if(epoch > 1):\n",
    "        if(np.mean(epoch_losses) < np.min(val_losses)):\n",
    "            path = \"model.pt\"\n",
    "            torch.save(frnn.state_dict(), path)\n",
    "        \n",
    "    val_losses.append(np.mean(epoch_losses))\n",
    "    val_accuracys.append(np.mean(epoch_accuracys))\n",
    "\n",
    "    \n",
    "    #optimizer.step(np.mean(epoch_losses))\n",
    "\n",
    "        \n",
    "\n",
    "\n",
    "    print('Epoch:  %d | Val-Loss: %.4f | Val Accuracy: %.2f' \n",
    "      %(epoch, np.mean(epoch_losses) , np.mean(epoch_accuracys)))\n",
    "    "
   ]
  },
  {
   "cell_type": "markdown",
   "id": "673deb8d",
   "metadata": {},
   "source": [
    "## Calculation of Jacobian "
   ]
  },
  {
   "cell_type": "code",
   "execution_count": 163,
   "id": "f5b8f547",
   "metadata": {},
   "outputs": [],
   "source": [
    "#Resetting to Batch Size 1 for evaluating jacobian\n",
    "\n",
    "batch_size=1\n",
    "\n",
    "# Split the indices in a stratified way\n",
    "indices = np.arange(len(dataset))\n",
    "\n",
    "#train_indices, test_indices = train_test_split(indices, train_size=100*10, stratify=dataset.targets)\n",
    "\n",
    "train_indices = indices[0:int(np.floor(1000/batch_size))*batch_size]\n",
    "test_indices = indices[0:int(np.floor(1000/batch_size))*batch_size]\n",
    "\n",
    "# Warp into Subsets and DataLoaders\n",
    "train_dataset = Subset(dataset, train_indices)\n",
    "test_dataset = Subset(dataset_test, test_indices)\n",
    "\n",
    "train_loader = DataLoader(train_dataset, shuffle=True, num_workers=2, batch_size=batch_size)\n",
    "test_loader = DataLoader(test_dataset, shuffle=False, num_workers=2, batch_size=batch_size)\n"
   ]
  },
  {
   "cell_type": "code",
   "execution_count": 40,
   "id": "384fe00d",
   "metadata": {},
   "outputs": [],
   "source": [
    "from numpy import linalg as LA\n"
   ]
  },
  {
   "cell_type": "markdown",
   "id": "9e7f852e",
   "metadata": {},
   "source": [
    "### Calculating Jacobian over Time for AFRNN and TLARNN "
   ]
  },
  {
   "cell_type": "code",
   "execution_count": 426,
   "id": "657d9486",
   "metadata": {},
   "outputs": [
    {
     "data": {
      "text/plain": [
       "FRNN_AS_SC()"
      ]
     },
     "execution_count": 426,
     "metadata": {},
     "output_type": "execute_result"
    }
   ],
   "source": [
    "#Select model if not using trained one\n",
    "\n",
    "hidden_size=20\n",
    "frnn =TLRNN_AS_SC(1, hidden_size,10, epsilon=0.01, gamma=0.01)\n",
    "frnn = FRNN_AS_SC(1,hidden_size,10, epsilon=0.01, gamma=0.01)\n",
    "#frnn = FRNN_SC(1,hidden_size,10, epsilon=0.01, gamma=0.003)\n",
    "\n",
    "\n",
    "frnn.to(device)"
   ]
  },
  {
   "cell_type": "code",
   "execution_count": 427,
   "id": "7f9f83b4",
   "metadata": {},
   "outputs": [
    {
     "name": "stderr",
     "output_type": "stream",
     "text": [
      "/tmp/ipykernel_7130/3058658391.py:109: UserWarning: Implicit dimension choice for softmax has been deprecated. Change the call to include dim=X as an argument.\n",
      "  output = F.softmax(torch.mm(hidden2, self.hto_weights.t()) + self.o_bias)\n"
     ]
    },
    {
     "name": "stdout",
     "output_type": "stream",
     "text": [
      "L\n",
      "0\n",
      "1\n",
      "2\n",
      "3\n",
      "4\n",
      "5\n",
      "6\n",
      "7\n",
      "8\n",
      "9\n",
      "10\n",
      "11\n",
      "12\n",
      "13\n",
      "14\n",
      "15\n",
      "16\n",
      "17\n",
      "18\n",
      "19\n"
     ]
    }
   ],
   "source": [
    "# Calculating the gradients \n",
    "\n",
    "\n",
    "max_vals = []\n",
    "\n",
    "all_grads_top_top = []\n",
    "all_grads_top_bottom = []\n",
    "all_grads_bottom_bottom = []\n",
    "all_grads_bottom_top = []\n",
    "\n",
    "grads_top_top = []\n",
    "grads_top_bottom = []\n",
    "grads_bottom_bottom = []\n",
    "grads_bottom_top = []\n",
    "\n",
    "\n",
    "def print_grad_top(grad):\n",
    "    #frnn.zero_grad()\n",
    "    #print(grad)\n",
    "    if ACTIVE== \"top\":\n",
    "        grads_top_top.append(grad.clone().detach().cpu().numpy())\n",
    "    else:\n",
    "        grads_bottom_top.append(grad.clone().detach().cpu().numpy())\n",
    "\n",
    "    #max_vals.append(np.mean(np.abs(LA.eig(grad.clone().detach().cpu())[0])))\n",
    "    \n",
    "def print_grad_bottom(grad):\n",
    "    #frnn.zero_grad()\n",
    "    #print(grad)\n",
    "    if ACTIVE== \"top\":\n",
    "        grads_top_bottom.append(grad.clone().detach().cpu().numpy())\n",
    "    else:\n",
    "        grads_bottom_bottom.append(grad.clone().detach().cpu().numpy())\n",
    "\n",
    "i = 2\n",
    "\n",
    "for batch_idx, (data, target) in enumerate(train_loader):\n",
    "    data = data.reshape(batch_size,-1)\n",
    "    data = data.to(device)\n",
    "    target = target.to(device)\n",
    "    if(batch_idx == i):\n",
    "        break\n",
    "    \n",
    "input_tensor = data\n",
    "criterion = nn.CrossEntropyLoss()\n",
    "\n",
    "\n",
    "    \n",
    "hidden_bottom_0 = torch.zeros(1,hidden_size).to(device)\n",
    "hidden_top_0 = torch.zeros(1,hidden_size).to(device)\n",
    "frnn.zero_grad()\n",
    "\n",
    "T = input_tensor.shape[-1]\n",
    "\n",
    "T=800\n",
    "#for i in range(input_tensor.shape[-1]):\n",
    "for i in range(T):\n",
    "\n",
    "    #out, hidden_bottom_0, hidden_top_0 = frnn(input_tensor[:,i:i+1], hidden_bottom_0.to(device), hidden_top_0.to(device))\n",
    "    out, hidden_bottom_0, hidden_top_0 = frnn(torch.rand(1,1).to(device), hidden_bottom_0.to(device), hidden_top_0.to(device))\n",
    "\n",
    "    if(i ==0):\n",
    "        \n",
    "        first_zero = hidden_bottom_0\n",
    "\n",
    "    \n",
    "    hidden_bottom_0.register_hook(print_grad_bottom)\n",
    "    hidden_top_0.register_hook(print_grad_top)\n",
    "\n",
    "\n",
    "\n",
    "    #if i==input_tensor.shape[-1]-1:\n",
    "    if i==T-1:\n",
    "\n",
    "    #if i == 1:\n",
    "        print(\"L\")\n",
    "        loss = criterion(out, target)\n",
    "        for k in range(len(hidden_top_0[0])):\n",
    "            print(k)\n",
    "            \n",
    "            #Calculating gradients of top layer wrt to top and bottom layer\n",
    "            frnn.zero_grad()\n",
    "            ACTIVE = \"top\"\n",
    "            hidden_top_0[0][k].backward(retain_graph=True)\n",
    "            all_grads_top_top.append(grads_top_top)\n",
    "            all_grads_top_bottom.append(grads_top_bottom)\n",
    "            grads_top_top = []\n",
    "            grads_top_bottom = []\n",
    "            \n",
    "            #Calculating gradients of bottom layer wrt to top and bottom layer\n",
    "            frnn.zero_grad()\n",
    "            ACTIVE = \"bottom\"\n",
    "            hidden_bottom_0[0][k].backward(retain_graph=True)\n",
    "            all_grads_bottom_bottom.append(grads_bottom_bottom)\n",
    "            all_grads_bottom_top.append(grads_bottom_top)\n",
    "            grads_bottom_bottom = []\n",
    "            grads_bottom_top = []\n",
    "\n",
    "        grad = torch.ones_like(out)\n",
    "        \n"
   ]
  },
  {
   "cell_type": "code",
   "execution_count": 428,
   "id": "c9a1dfbd",
   "metadata": {},
   "outputs": [],
   "source": [
    "# Rearranging the gradients to get Jacobian Matrices\n",
    "jacobs_top_top = [[] for i in range(T-1)]\n",
    "jacobs_top_bottom = [[] for i in range(T-1)]\n",
    "jacobs_bottom_bottom = [[] for i in range(T-1)]\n",
    "jacobs_bottom_top = [[] for i in range(T-1)]\n",
    "\n",
    "\n",
    "        \n",
    "for i in range(0, len(all_grads_top_top)):\n",
    "    for j in range(1, len(jacobs_bottom_bottom)):\n",
    "        jacobs_top_top[j].append(all_grads_top_top[i][j])\n",
    "        \n",
    "\n",
    "for i in range(0, len(all_grads_top_bottom)):\n",
    "    for j in range(1, len(jacobs_bottom_bottom)):\n",
    "        jacobs_top_bottom[j].append(all_grads_top_bottom[i][j])\n",
    "        \n",
    "for i in range(0, len(all_grads_bottom_bottom)):\n",
    "    for j in range(1, len(jacobs_bottom_bottom)):\n",
    "        jacobs_bottom_bottom[j].append(all_grads_bottom_bottom[i][j])\n",
    "        \n",
    "for i in range(0, len(all_grads_top_top)):\n",
    "    for j in range(1, len(jacobs_bottom_bottom)):\n",
    "        if all_grads_bottom_top[i] == []:\n",
    "            jacobs_bottom_top[j].append(np.zeros_like(all_grads_bottom_bottom[i][j]))\n",
    "        else:\n",
    "            jacobs_bottom_top[j].append(all_grads_bottom_top[i][j])\n",
    "            \n",
    "            \n",
    "jacobs_final = []\n",
    "for i in range(1, len(jacobs_top_top)):\n",
    "    \n",
    "    #J = np.concatenate(jacobs_top_top[i])\n",
    "    #J = np.concatenate((J, np.concatenate(jacobs_top_bottom[i])))\n",
    "    #J2 = np.concatenate(jacobs_bottom_top[i])\n",
    "    #J2 = np.concatenate((J2, np.concatenate(jacobs_bottom_bottom[i])))\n",
    "    #J = np.concatenate((J, J2), axis=1)\n",
    "    \n",
    "    \n",
    "    J = np.concatenate(jacobs_top_top[i])\n",
    "    jacobs_final.append(J)\n",
    "    \n",
    "jacobs_EVs = []\n",
    "for jacob in jacobs_final:\n",
    "    #jacobs_EVs.append(np.mean(np.abs(LA.eig(jacob)[0])))\n",
    "    jacobs_EVs.append(np.max(np.abs(LA.eig(jacob)[0])))\n",
    "\n",
    "        \n",
    "####\n",
    "        \n",
    "# for neuron_grads in all_grads_top_bottom:\n",
    "#     for j in range(1, len(jacobs_bottom_bottom)):\n",
    "#         print(j)\n",
    "#         print(neuron_grads)\n",
    "#         jacobs_top_bottom[j].append(neuron_grads[j])\n",
    "        \n",
    "# for neuron_grads in all_grads_bottom_bottom:\n",
    "#     for j in range(1, len(jacobs_bottom_bottom)):\n",
    "#         jacobs_bottom_bottom[j].append(neuron_grads[j])\n",
    "        \n",
    "# for neuron_grads in all_grads_bottom_top:\n",
    "#     for j in range(1, len(jacobs_bottom_bottom)):\n",
    "#         jacobs_bottom_top[j].append(neuron_grads[j])"
   ]
  },
  {
   "cell_type": "code",
   "execution_count": 429,
   "id": "352e5578",
   "metadata": {},
   "outputs": [
    {
     "data": {
      "text/plain": [
       "[<matplotlib.lines.Line2D at 0x7f11d4e9d9a0>]"
      ]
     },
     "execution_count": 429,
     "metadata": {},
     "output_type": "execute_result"
    },
    {
     "data": {
      "image/png": "[encoded data removed]",
      "text/plain": [
       "<Figure size 1440x216 with 1 Axes>"
      ]
     },
     "metadata": {
      "needs_background": "light"
     },
     "output_type": "display_data"
    }
   ],
   "source": [
    "plt.plot(jacobs_EVs)\n"
   ]
  },
  {
   "cell_type": "code",
   "execution_count": 317,
   "id": "0fc9c030",
   "metadata": {},
   "outputs": [],
   "source": [
    "#JACOBS_AFRNN1 = jacobs_EVs"
   ]
  },
  {
   "cell_type": "code",
   "execution_count": 327,
   "id": "469f6844",
   "metadata": {},
   "outputs": [],
   "source": [
    "#JACOBS_FNN = jacobs_EVs"
   ]
  },
  {
   "cell_type": "code",
   "execution_count": 332,
   "id": "12208fd6",
   "metadata": {},
   "outputs": [],
   "source": [
    "#JACOBS_TLRNN = jacobs_EVs"
   ]
  },
  {
   "cell_type": "code",
   "execution_count": 333,
   "id": "45f0aa31",
   "metadata": {},
   "outputs": [
    {
     "data": {
      "text/plain": [
       "[<matplotlib.lines.Line2D at 0x7f123fce6670>]"
      ]
     },
     "execution_count": 333,
     "metadata": {},
     "output_type": "execute_result"
    },
    {
     "data": {
      "image/png": "[encoded data removed]",
      "text/plain": [
       "<Figure size 252x189 with 1 Axes>"
      ]
     },
     "metadata": {
      "needs_background": "light"
     },
     "output_type": "display_data"
    }
   ],
   "source": [
    "plt.plot(JACOBS_TLRNN)\n",
    "plt.plot(JACOBS_FNN)\n",
    "plt.plot(JACOBS_AFRNN1)\n",
    "#plt.plot(JACOBS_ARNN1)"
   ]
  },
  {
   "cell_type": "markdown",
   "id": "da340357",
   "metadata": {},
   "source": [
    "### Calculating Jacobian over Time for ARNN"
   ]
  },
  {
   "cell_type": "code",
   "execution_count": 349,
   "id": "9869b112",
   "metadata": {},
   "outputs": [
    {
     "data": {
      "text/plain": [
       "A_RNN()"
      ]
     },
     "execution_count": 349,
     "metadata": {},
     "output_type": "execute_result"
    }
   ],
   "source": [
    "hidden_size=4\n",
    "frnn = A_RNN(1, hidden_size,10, epsilon=0.01, gamma=0.003)\n",
    "#frnn = LSTM_NET(1, hidden_size,10)\n",
    "\n",
    "frnn.to(device)\n"
   ]
  },
  {
   "cell_type": "code",
   "execution_count": 353,
   "id": "15734565",
   "metadata": {},
   "outputs": [
    {
     "name": "stderr",
     "output_type": "stream",
     "text": [
      "/tmp/ipykernel_7130/720636640.py:57: UserWarning: Implicit dimension choice for softmax has been deprecated. Change the call to include dim=X as an argument.\n",
      "  output = F.softmax(torch.mm(hidden, self.hto_weights.t()) + self.o_bias)\n"
     ]
    },
    {
     "name": "stdout",
     "output_type": "stream",
     "text": [
      "L\n",
      "0\n",
      "1\n",
      "2\n",
      "3\n"
     ]
    }
   ],
   "source": [
    "\n",
    "max_vals = []\n",
    "\n",
    "all_grads = []\n",
    "grads = []\n",
    "\n",
    "def print_grad(grad):\n",
    "\n",
    "    grads.append(grad.clone().detach().cpu().numpy())\n",
    "\n",
    "i = 2\n",
    "\n",
    "for batch_idx, (data, target) in enumerate(train_loader):\n",
    "    data = data.reshape(batch_size,-1)\n",
    "    data = data.to(device)\n",
    "    target = target.to(device)\n",
    "    if(batch_idx == i):\n",
    "        break\n",
    "    \n",
    "input_tensor = data\n",
    "criterion = nn.CrossEntropyLoss()\n",
    "\n",
    "\n",
    "    \n",
    "hidden_bottom_0 = torch.zeros(1,hidden_size).to(device)\n",
    "hidden_top_0 = torch.zeros(1,hidden_size).to(device)\n",
    "frnn.zero_grad()\n",
    "\n",
    "T = input_tensor.shape[-1]\n",
    "T=4000\n",
    "\n",
    "for i in range(T):\n",
    "    #frnn.zero_grad()\n",
    "#for i in range(300):\n",
    "    #out, hidden_bottom_0 = frnn(input_tensor[:,i:i+1], hidden_bottom_0.to(device))\n",
    "    out, hidden_bottom_0 = frnn(torch.rand(1,1), hidden_bottom_0.to(device))\n",
    "\n",
    "\n",
    "\n",
    "        \n",
    "    #hd = hidden_top_0.clone()\n",
    "    hidden_bottom_0.register_hook(print_grad)\n",
    "\n",
    "\n",
    "    if i==T-1:\n",
    "    #if i == 1:\n",
    "        print(\"L\")\n",
    "        loss = criterion(out, target)\n",
    "\n",
    "        for k in range(len(hidden_top_0[0])):\n",
    "            print(k)\n",
    "            frnn.zero_grad()\n",
    "            hidden_bottom_0[0][k].backward(retain_graph=True)\n",
    "            all_grads.append(grads)\n",
    "            grads = []\n",
    "\n",
    "        grad = torch.ones_like(out)\n",
    "\n"
   ]
  },
  {
   "cell_type": "code",
   "execution_count": 354,
   "id": "26b1e73a",
   "metadata": {},
   "outputs": [
    {
     "data": {
      "text/plain": [
       "[<matplotlib.lines.Line2D at 0x7f123efee970>]"
      ]
     },
     "execution_count": 354,
     "metadata": {},
     "output_type": "execute_result"
    },
    {
     "data": {
      "image/png": "[encoded data removed]",
      "text/plain": [
       "<Figure size 252x189 with 1 Axes>"
      ]
     },
     "metadata": {
      "needs_background": "light"
     },
     "output_type": "display_data"
    }
   ],
   "source": [
    "len(all_grads)\n",
    "jacobs = [[] for i in range(T-1)]\n",
    "\n",
    "for neuron_grads in all_grads:\n",
    "    for j in range(len(jacobs)):\n",
    "        jacobs[j].append(neuron_grads[j])\n",
    "jacobs_final = []\n",
    "for jacob in jacobs:\n",
    "    jacobs_final.append(np.concatenate(jacob))\n",
    "jacobs_EVs = []\n",
    "for jacob in jacobs_final:\n",
    "    jacobs_EVs.append(np.mean(np.abs(LA.eig(jacob)[0])))\n",
    "#plt.ylim((0,1))\n",
    "plt.plot(jacobs_EVs)"
   ]
  },
  {
   "cell_type": "code",
   "execution_count": 355,
   "id": "0289080c",
   "metadata": {},
   "outputs": [
    {
     "data": {
      "text/plain": [
       "(4, 4)"
      ]
     },
     "execution_count": 355,
     "metadata": {},
     "output_type": "execute_result"
    }
   ],
   "source": [
    "jacobs_final[0].shape"
   ]
  },
  {
   "cell_type": "code",
   "execution_count": 356,
   "id": "e09c659b",
   "metadata": {},
   "outputs": [],
   "source": [
    "JACOBS_ARNN1 = jacobs_EVs"
   ]
  },
  {
   "cell_type": "markdown",
   "id": "b8f59206",
   "metadata": {},
   "source": [
    "### Calculating Jacobian over Time for LSTM"
   ]
  },
  {
   "cell_type": "code",
   "execution_count": 342,
   "id": "914578bf",
   "metadata": {},
   "outputs": [
    {
     "data": {
      "text/plain": [
       "LSTM_NET(\n",
       "  (lstm): LSTMCell(1, 4)\n",
       "  (fc): Linear(in_features=4, out_features=10, bias=True)\n",
       ")"
      ]
     },
     "execution_count": 342,
     "metadata": {},
     "output_type": "execute_result"
    }
   ],
   "source": [
    "frnn = LSTM_NET(1, hidden_size,10)\n",
    "\n",
    "frnn.to(device)"
   ]
  },
  {
   "cell_type": "code",
   "execution_count": 235,
   "id": "7fb45b35",
   "metadata": {},
   "outputs": [],
   "source": [
    "device = 'cpu'"
   ]
  },
  {
   "cell_type": "code",
   "execution_count": 344,
   "id": "771fec52",
   "metadata": {},
   "outputs": [
    {
     "name": "stdout",
     "output_type": "stream",
     "text": [
      "L\n",
      "0\n",
      "1\n",
      "2\n",
      "3\n"
     ]
    }
   ],
   "source": [
    "\n",
    "max_vals = []\n",
    "\n",
    "all_grads = []\n",
    "grads = []\n",
    "\n",
    "def print_grad(grad):\n",
    "    #frnn.zero_grad()\n",
    "    #print(grad)\n",
    "    grads.append(grad.clone().detach().cpu().numpy())\n",
    "    #max_vals.append(np.mean(np.abs(LA.eig(grad.clone().detach().cpu())[0])))\n",
    "\n",
    "i = 2\n",
    "\n",
    "for batch_idx, (data, target) in enumerate(train_loader):\n",
    "    data = data.reshape(batch_size,-1)\n",
    "    data = data.to(device)\n",
    "    target = target.to(device)\n",
    "    if(batch_idx == i):\n",
    "        break\n",
    "    \n",
    "input_tensor = data\n",
    "criterion = nn.CrossEntropyLoss()\n",
    "\n",
    "\n",
    "    \n",
    "hidden_bottom_0 = torch.zeros(1,hidden_size).to(device)\n",
    "c_0 = torch.zeros(1,hidden_size).to(device)\n",
    "frnn.zero_grad()\n",
    "\n",
    "T = input_tensor.shape[-1]\n",
    "T=4000\n",
    "\n",
    "for i in range(T):\n",
    "    #frnn.zero_grad()\n",
    "#for i in range(300):\n",
    "    #out, hidden_bottom_0, c_0 = frnn(input_tensor[:,i:i+1], hidden_bottom_0.to(device), c_0.to(device))\n",
    "    out, hidden_bottom_0, c_0 = frnn(torch.rand(1,1), hidden_bottom_0.to(device), c_0.to(device))\n",
    "\n",
    "\n",
    "        \n",
    "    #hd = hidden_top_0.clone()\n",
    "    hidden_bottom_0.register_hook(print_grad)\n",
    "\n",
    "\n",
    "    if i==input_tensor.shape[-1]-1:\n",
    "    #if i == 1:\n",
    "        print(\"L\")\n",
    "        loss = criterion(out, target)\n",
    "\n",
    "        for k in range(len(hidden_bottom_0[0])):\n",
    "            print(k)\n",
    "            frnn.zero_grad()\n",
    "            hidden_bottom_0[0][k].backward(retain_graph=True)\n",
    "            all_grads.append(grads)\n",
    "            grads = []\n",
    "\n",
    "        grad = torch.ones_like(out)\n",
    "        \n",
    "        #torch.autograd.backward([out], [grad])\n",
    "        \n",
    "#         for i in range(len(hidden_top_0[0])):\n",
    "#             print(i)\n",
    "#             hidden_top_0[0][i].backward(retain_graph=True)\n",
    "        \n",
    "\n",
    "        #optimizer.step()\n"
   ]
  },
  {
   "cell_type": "code",
   "execution_count": 345,
   "id": "c09dcf29",
   "metadata": {},
   "outputs": [
    {
     "data": {
      "text/plain": [
       "[<matplotlib.lines.Line2D at 0x7f123f424a30>]"
      ]
     },
     "execution_count": 345,
     "metadata": {},
     "output_type": "execute_result"
    },
    {
     "data": {
      "image/png": "[encoded data removed]",
      "text/plain": [
       "<Figure size 252x189 with 1 Axes>"
      ]
     },
     "metadata": {
      "needs_background": "light"
     },
     "output_type": "display_data"
    }
   ],
   "source": [
    "len(all_grads)\n",
    "jacobs = [[] for i in range(input_tensor.shape[-1])]\n",
    "\n",
    "for neuron_grads in all_grads:\n",
    "    for j in range(len(jacobs)):\n",
    "        jacobs[j].append(neuron_grads[j])\n",
    "jacobs_final = []\n",
    "for jacob in jacobs:\n",
    "    jacobs_final.append(np.concatenate(jacob))\n",
    "jacobs_EVs = []\n",
    "for jacob in jacobs_final:\n",
    "    jacobs_EVs.append(np.mean(np.abs(LA.eig(jacob)[0])))\n",
    "plt.ylim((0,1))\n",
    "\n",
    "plt.plot(jacobs_EVs)"
   ]
  },
  {
   "cell_type": "code",
   "execution_count": 346,
   "id": "dc327289",
   "metadata": {},
   "outputs": [],
   "source": [
    "LSTM_TRAINED = jacobs_EVs"
   ]
  },
  {
   "cell_type": "code",
   "execution_count": 239,
   "id": "d37965d5",
   "metadata": {},
   "outputs": [],
   "source": [
    "plt.style.use('science')\n"
   ]
  },
  {
   "cell_type": "code",
   "execution_count": 376,
   "id": "a3638ab1",
   "metadata": {},
   "outputs": [],
   "source": [
    "LSTM_TRAINED = np.load(\"jacobian_gamma_001/lstm.npy\")\n",
    "JACOBS_AFRNN1 = np.load(\"jacobian_gamma_001/afrnn.npy\")\n",
    "JACOBS_ARNN1 = np.load(\"jacobian_gamma_001/arnn.npy\")\n",
    "JACOBS_TLRNN = np.load(\"jacobian_gamma_001/2arnn.npy\")\n",
    "JACOBS_FNN = np.load(\"jacobian_gamma_001/frnn.npy\")"
   ]
  },
  {
   "cell_type": "code",
   "execution_count": 394,
   "id": "0de92cf6",
   "metadata": {},
   "outputs": [
    {
     "data": {
      "image/png": "[encoded data removed]",
      "text/plain": [
       "<Figure size 460.8x345.6 with 1 Axes>"
      ]
     },
     "metadata": {
      "needs_background": "light"
     },
     "output_type": "display_data"
    }
   ],
   "source": [
    "#plt.yscale('log')\n",
    "plt.plot(LSTM_TRAINED, label='LSTM')\n",
    "#plt.rcParams[\"figure.figsize\"] = (20,3)\n",
    "#plt.plot(JACOBS_ARNN, label='ARNN')\n",
    "plt.plot(JACOBS_ARNN1, label='ARNN')\n",
    "#plt.plot(JACOBS_AFRNN, label='AFRNN')\n",
    "plt.plot(JACOBS_AFRNN1, label='AFRNN')\n",
    "#plt.plot(JACOBS_TLRNN1, label='TLRNN')\n",
    "plt.plot(JACOBS_TLRNN, label='2-ARNN')\n",
    "plt.plot(JACOBS_FNN, label='FRNN')\n",
    "plt.xlabel(\"t\")\n",
    "plt.ylabel(\"$\\overline{|\\lambda|}$\")\n",
    "plt.legend()\n",
    "plt.savefig('jacobian_trained.pdf')"
   ]
  },
  {
   "cell_type": "code",
   "execution_count": 250,
   "id": "04a1c025",
   "metadata": {},
   "outputs": [],
   "source": [
    "import json"
   ]
  },
  {
   "cell_type": "code",
   "execution_count": 256,
   "id": "5fdb8622",
   "metadata": {},
   "outputs": [],
   "source": [
    "np.save(\"lstm.npy\", LSTM_TRAINED)\n",
    "np.save(\"afrnn.npy\", JACOBS_AFRNN1)\n",
    "np.save(\"arnn.npy\", JACOBS_ARNN1)\n",
    "np.save(\"2arnn.npy\", JACOBS_TLRNN)\n",
    "np.save(\"frnn.npy\", JACOBS_FNN)"
   ]
  },
  {
   "cell_type": "code",
   "execution_count": null,
   "id": "479e50a3",
   "metadata": {},
   "outputs": [],
   "source": []
  }
 ],
 "metadata": {
  "kernelspec": {
   "display_name": "Python 3 (ipykernel)",
   "language": "python",
   "name": "python3"
  },
  "language_info": {
   "codemirror_mode": {
    "name": "ipython",
    "version": 3
   },
   "file_extension": ".py",
   "mimetype": "text/x-python",
   "name": "python",
   "nbconvert_exporter": "python",
   "pygments_lexer": "ipython3",
   "version": "3.8.10"
  }
 },
 "nbformat": 4,
 "nbformat_minor": 5
}
